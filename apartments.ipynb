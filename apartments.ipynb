{
  "nbformat": 4,
  "nbformat_minor": 0,
  "metadata": {
    "colab": {
      "name": "apartments",
      "provenance": [],
      "authorship_tag": "ABX9TyPSlAn7GR6lvwC8ku3Ivosq",
      "include_colab_link": true
    },
    "kernelspec": {
      "name": "python3",
      "display_name": "Python 3"
    }
  },
  "cells": [
    {
      "cell_type": "markdown",
      "metadata": {
        "id": "view-in-github",
        "colab_type": "text"
      },
      "source": [
        "<a href=\"https://colab.research.google.com/github/byambaa1982/bostonhouse_data_filter/blob/master/apartments.ipynb\" target=\"_parent\"><img src=\"https://colab.research.google.com/assets/colab-badge.svg\" alt=\"Open In Colab\"/></a>"
      ]
    },
    {
      "cell_type": "code",
      "metadata": {
        "id": "MaPD5Ia-Rylm",
        "colab_type": "code",
        "outputId": "552f0594-14f3-4ecb-ab35-9cfc61c4f28f",
        "colab": {
          "base_uri": "https://localhost:8080/",
          "height": 122
        }
      },
      "source": [
        "from google.colab import drive\n",
        "drive.mount('/content/gdrive', force_remount=True)\n",
        "root_dir = \"/content/gdrive/My Drive/\"\n",
        "base_dir = root_dir + 'coderjs-v1/'"
      ],
      "execution_count": 0,
      "outputs": [
        {
          "output_type": "stream",
          "text": [
            "Go to this URL in a browser: https://accounts.google.com/o/oauth2/auth?client_id=947318989803-6bn6qk8qdgf4n4g3pfee6491hc0brc4i.apps.googleusercontent.com&redirect_uri=urn%3aietf%3awg%3aoauth%3a2.0%3aoob&response_type=code&scope=email%20https%3a%2f%2fwww.googleapis.com%2fauth%2fdocs.test%20https%3a%2f%2fwww.googleapis.com%2fauth%2fdrive%20https%3a%2f%2fwww.googleapis.com%2fauth%2fdrive.photos.readonly%20https%3a%2f%2fwww.googleapis.com%2fauth%2fpeopleapi.readonly\n",
            "\n",
            "Enter your authorization code:\n",
            "··········\n",
            "Mounted at /content/gdrive\n"
          ],
          "name": "stdout"
        }
      ]
    },
    {
      "cell_type": "markdown",
      "metadata": {
        "id": "Cn7gR_8wcC3b",
        "colab_type": "text"
      },
      "source": [
        "# Libraries and read CSV"
      ]
    },
    {
      "cell_type": "code",
      "metadata": {
        "id": "IIuy5ny7cQH6",
        "colab_type": "code",
        "colab": {}
      },
      "source": [
        "from google.colab import drive\n",
        "drive.mount('/content/gdrive', force_remount=True)\n",
        "root_dir = \"/content/gdrive/My Drive/\"\n",
        "base_dir = root_dir + 'coderjs-v1/'"
      ],
      "execution_count": 0,
      "outputs": []
    },
    {
      "cell_type": "code",
      "metadata": {
        "id": "uRu30uFtSNJx",
        "colab_type": "code",
        "colab": {}
      },
      "source": [
        "import numpy as np\n",
        "import pandas as pd\n",
        "import regex as re\n",
        "import matplotlib\n",
        "import matplotlib.pyplot as plt\n",
        "import seaborn as sns\n",
        "import os\n",
        "os.chdir('/content/gdrive/My Drive/Boston Exported Data')  #change dir"
      ],
      "execution_count": 0,
      "outputs": []
    },
    {
      "cell_type": "code",
      "metadata": {
        "id": "sJdlCoYBSOT5",
        "colab_type": "code",
        "outputId": "d5108b28-1d50-43ec-a53c-29efb56cbf6f",
        "colab": {
          "base_uri": "https://localhost:8080/",
          "height": 71
        }
      },
      "source": [
        "df=pd.read_csv('itemsMerged.csv')"
      ],
      "execution_count": 0,
      "outputs": [
        {
          "output_type": "stream",
          "text": [
            "/usr/local/lib/python3.6/dist-packages/IPython/core/interactiveshell.py:2718: DtypeWarning: Columns (38) have mixed types. Specify dtype option on import or set low_memory=False.\n",
            "  interactivity=interactivity, compiler=compiler, result=result)\n"
          ],
          "name": "stderr"
        }
      ]
    },
    {
      "cell_type": "code",
      "metadata": {
        "id": "rFdNOD-tyujf",
        "colab_type": "code",
        "colab": {}
      },
      "source": [
        "df=df[[df.columns[i] for i in range(38)]]"
      ],
      "execution_count": 0,
      "outputs": []
    },
    {
      "cell_type": "markdown",
      "metadata": {
        "id": "vNusmUfmtNLj",
        "colab_type": "text"
      },
      "source": [
        "# Raw data size"
      ]
    },
    {
      "cell_type": "code",
      "metadata": {
        "id": "eTQbUiNPUBe2",
        "colab_type": "code",
        "outputId": "dd9a61cc-0a36-4a25-a65f-a6d0d212d947",
        "colab": {
          "base_uri": "https://localhost:8080/",
          "height": 34
        }
      },
      "source": [
        "print('total {} rows and {} columns'.format(df.shape[0], df.shape[1]))"
      ],
      "execution_count": 0,
      "outputs": [
        {
          "output_type": "stream",
          "text": [
            "total 398122 rows and 38 columns\n"
          ],
          "name": "stdout"
        }
      ]
    },
    {
      "cell_type": "markdown",
      "metadata": {
        "id": "C8ncDoe1VbJz",
        "colab_type": "text"
      },
      "source": [
        "# Property Types"
      ]
    },
    {
      "cell_type": "code",
      "metadata": {
        "id": "Fwb3ZsWmuCcq",
        "colab_type": "code",
        "colab": {}
      },
      "source": [
        "prop_types=df['Property type'].unique().tolist()"
      ],
      "execution_count": 0,
      "outputs": []
    },
    {
      "cell_type": "code",
      "metadata": {
        "id": "QteMhSRRdb78",
        "colab_type": "code",
        "colab": {}
      },
      "source": [
        "def filter_it():\n",
        "  for i in prop_types:\n",
        "    df1=df[df['Property type']==i]\n",
        "    print('total rows of {} is {}'.format(i, df1.shape[0]))\n",
        "    # df1.to_csv(str(i)+'.csv')\n",
        "  return df1"
      ],
      "execution_count": 0,
      "outputs": []
    },
    {
      "cell_type": "markdown",
      "metadata": {
        "id": "mqX6K7hjvClZ",
        "colab_type": "text"
      },
      "source": [
        "# Property Types by Numbers"
      ]
    },
    {
      "cell_type": "code",
      "metadata": {
        "id": "Cvt3ICk_v36D",
        "colab_type": "code",
        "colab": {}
      },
      "source": [
        "my_series=df['Property type'].value_counts()\n",
        "my_df=my_series.to_frame()"
      ],
      "execution_count": 0,
      "outputs": []
    },
    {
      "cell_type": "code",
      "metadata": {
        "id": "x37JNLK5xVKG",
        "colab_type": "code",
        "outputId": "b3879a2d-7e0f-48c1-e6b8-97851adf753a",
        "colab": {
          "base_uri": "https://localhost:8080/",
          "height": 483
        }
      },
      "source": [
        "my_df"
      ],
      "execution_count": 0,
      "outputs": [
        {
          "output_type": "execute_result",
          "data": {
            "text/html": [
              "<div>\n",
              "<style scoped>\n",
              "    .dataframe tbody tr th:only-of-type {\n",
              "        vertical-align: middle;\n",
              "    }\n",
              "\n",
              "    .dataframe tbody tr th {\n",
              "        vertical-align: top;\n",
              "    }\n",
              "\n",
              "    .dataframe thead th {\n",
              "        text-align: right;\n",
              "    }\n",
              "</style>\n",
              "<table border=\"1\" class=\"dataframe\">\n",
              "  <thead>\n",
              "    <tr style=\"text-align: right;\">\n",
              "      <th></th>\n",
              "      <th>Property type</th>\n",
              "    </tr>\n",
              "  </thead>\n",
              "  <tbody>\n",
              "    <tr>\n",
              "      <th>Condo Main Building</th>\n",
              "      <td>96174</td>\n",
              "    </tr>\n",
              "    <tr>\n",
              "      <th>Three Family</th>\n",
              "      <td>55662</td>\n",
              "    </tr>\n",
              "    <tr>\n",
              "      <th>Two Family</th>\n",
              "      <td>53578</td>\n",
              "    </tr>\n",
              "    <tr>\n",
              "      <th>Apartment Building</th>\n",
              "      <td>46930</td>\n",
              "    </tr>\n",
              "    <tr>\n",
              "      <th>Residential/Commercial</th>\n",
              "      <td>38342</td>\n",
              "    </tr>\n",
              "    <tr>\n",
              "      <th>One Family</th>\n",
              "      <td>35757</td>\n",
              "    </tr>\n",
              "    <tr>\n",
              "      <th>Exempt</th>\n",
              "      <td>26062</td>\n",
              "    </tr>\n",
              "    <tr>\n",
              "      <th>Four to Six Family</th>\n",
              "      <td>15757</td>\n",
              "    </tr>\n",
              "    <tr>\n",
              "      <th>Commercial</th>\n",
              "      <td>13299</td>\n",
              "    </tr>\n",
              "    <tr>\n",
              "      <th>Exempt - 121A</th>\n",
              "      <td>5488</td>\n",
              "    </tr>\n",
              "    <tr>\n",
              "      <th>Residential Land</th>\n",
              "      <td>1009</td>\n",
              "    </tr>\n",
              "    <tr>\n",
              "      <th>Industrial</th>\n",
              "      <td>642</td>\n",
              "    </tr>\n",
              "    <tr>\n",
              "      <th>Commercial Land</th>\n",
              "      <td>387</td>\n",
              "    </tr>\n",
              "    <tr>\n",
              "      <th>Agricultural</th>\n",
              "      <td>1</td>\n",
              "    </tr>\n",
              "  </tbody>\n",
              "</table>\n",
              "</div>"
            ],
            "text/plain": [
              "                        Property type\n",
              "Condo Main Building             96174\n",
              "Three Family                    55662\n",
              "Two Family                      53578\n",
              "Apartment Building              46930\n",
              "Residential/Commercial          38342\n",
              "One Family                      35757\n",
              "Exempt                          26062\n",
              "Four to Six Family              15757\n",
              "Commercial                      13299\n",
              "Exempt - 121A                    5488\n",
              "Residential Land                 1009\n",
              "Industrial                        642\n",
              "Commercial Land                   387\n",
              "Agricultural                        1"
            ]
          },
          "metadata": {
            "tags": []
          },
          "execution_count": 22
        }
      ]
    },
    {
      "cell_type": "markdown",
      "metadata": {
        "id": "uyygF18LvMq9",
        "colab_type": "text"
      },
      "source": [
        "# Property Types By Plot"
      ]
    },
    {
      "cell_type": "code",
      "metadata": {
        "id": "nRWJS8z2wpDp",
        "colab_type": "code",
        "colab": {}
      },
      "source": [
        "def barplot(x_data, y_data, x_label=\"\", y_label=\"\", title=\"\"):\n",
        "    _, ax = plt.subplots(figsize=(15, 8))\n",
        "    # Draw bars, position them in the center of the tick mark on the x-axis\n",
        "    ax.bar(x_data, y_data, color = '#539caf', align = 'center')\n",
        "    # Draw error bars to show standard deviation, set ls to 'none'\n",
        "    # to remove line between points\n",
        "    ax.errorbar(x_data, y_data, color = '#297083', ls = 'none', lw = 2, capthick = 2)\n",
        "    ax.set_ylabel(y_label, fontsize=16)\n",
        "    ax.set_xlabel(x_label,fontsize=16)\n",
        "    ax.set_title(title, fontsize=20, pad=30)\n",
        "    plt.xticks(x_data, labels=x_data, rotation='vertical')"
      ],
      "execution_count": 0,
      "outputs": []
    },
    {
      "cell_type": "code",
      "metadata": {
        "id": "bIW3WlievRb_",
        "colab_type": "code",
        "outputId": "6a8534f0-bec1-49e9-c268-8b2ed39cf2d4",
        "colab": {
          "base_uri": "https://localhost:8080/",
          "height": 656
        }
      },
      "source": [
        "\n",
        "barplot( my_df.index, my_df['Property type'], x_label=\"Property Types\", y_label=\"Total Number\", title=\"What Property Type is the Most Popular\" )"
      ],
      "execution_count": 0,
      "outputs": [
        {
          "output_type": "display_data",
          "data": {
            "image/png": "[encoded data removed]",
            "text/plain": [
              "<Figure size 1080x576 with 1 Axes>"
            ]
          },
          "metadata": {
            "tags": []
          }
        }
      ]
    },
    {
      "cell_type": "code",
      "metadata": {
        "id": "s5GpkrjLgsnJ",
        "colab_type": "code",
        "colab": {}
      },
      "source": [
        "# for i in files:\n",
        "#   # print(i)\n",
        "#   df=pd.read_excel(i)\n",
        "#   print('total shape of {} is {}'.format(i, df.shape))"
      ],
      "execution_count": 0,
      "outputs": []
    },
    {
      "cell_type": "markdown",
      "metadata": {
        "id": "gbSiICzPP_RL",
        "colab_type": "text"
      },
      "source": [
        "# My REGEX Functions and Filters"
      ]
    },
    {
      "cell_type": "code",
      "metadata": {
        "id": "kw4K0fWFothB",
        "colab_type": "code",
        "colab": {}
      },
      "source": [
        "\n",
        "#------ Pick only numbers---------\n",
        "def only_number(mystr):\n",
        "  try:\n",
        "    new_str=(re.sub('[^0-9,]', \"\", mystr))\n",
        "    return new_str\n",
        "  except:\n",
        "    np.nan"
      ],
      "execution_count": 0,
      "outputs": []
    },
    {
      "cell_type": "code",
      "metadata": {
        "id": "PdpSKaIJ6Ipn",
        "colab_type": "code",
        "colab": {}
      },
      "source": [
        "#------ Pick only the first one of array---------\n",
        "def only_first(mystr):\n",
        "  try:\n",
        "    new_str=re.split(' ', mystr)\n",
        "    return new_str[0]\n",
        "  except:\n",
        "    np.nan"
      ],
      "execution_count": 0,
      "outputs": []
    },
    {
      "cell_type": "code",
      "metadata": {
        "id": "l-a4EU1FdTTg",
        "colab_type": "code",
        "colab": {}
      },
      "source": [
        "def anystring_to_float(string):\n",
        "  newstring =\"\" \n",
        "  my_float=\"\"\n",
        "  count=0\n",
        "  try:\n",
        "    for a in string: \n",
        "        if a=='.' or (a.isnumeric()) == True: \n",
        "            count+= 1\n",
        "            my_float+=a\n",
        "        else: \n",
        "            newstring+= a \n",
        "    # print(count) \n",
        "    # print(newstring) \n",
        "    # print('data type of {} is now {}'.format(num, type(num)))\n",
        "    return float(my_float)\n",
        "  except:\n",
        "    return np.nan"
      ],
      "execution_count": 0,
      "outputs": []
    },
    {
      "cell_type": "code",
      "metadata": {
        "id": "ssvcRWU1J0tN",
        "colab_type": "code",
        "colab": {
          "base_uri": "https://localhost:8080/",
          "height": 34
        },
        "outputId": "bb3b1465-74d1-4fe7-9fb2-b597c8f2d450"
      },
      "source": [
        "only_first('233 dkfajd dkfd')"
      ],
      "execution_count": 69,
      "outputs": [
        {
          "output_type": "execute_result",
          "data": {
            "text/plain": [
              "'233'"
            ]
          },
          "metadata": {
            "tags": []
          },
          "execution_count": 69
        }
      ]
    },
    {
      "cell_type": "code",
      "metadata": {
        "id": "fERB1NRTy3sv",
        "colab_type": "code",
        "colab": {}
      },
      "source": [
        "import regex as re\n",
        "df['filter1']=df['Classification Code'].map(lambda row: only_number(row))\n",
        "df['filter2']=df['Residential Exemption.1'].map(lambda row: only_number(row))\n",
        "df['filter3']=df['Classification Code'].map(lambda row: only_first(row))"
      ],
      "execution_count": 0,
      "outputs": []
    },
    {
      "cell_type": "markdown",
      "metadata": {
        "id": "0PksCVGqz88r",
        "colab_type": "text"
      },
      "source": [
        "# This is our wanted Classification Code list"
      ]
    },
    {
      "cell_type": "code",
      "metadata": {
        "id": "65s4TcgTyMR3",
        "colab_type": "code",
        "colab": {}
      },
      "source": [
        "my_list=['0012','0013','0025','0026','0027','0031','0101','0102','0104','0105','0109','0111','0112','0113','0114','0115']"
      ],
      "execution_count": 0,
      "outputs": []
    },
    {
      "cell_type": "markdown",
      "metadata": {
        "id": "ZOUJ_lprLQcK",
        "colab_type": "text"
      },
      "source": [
        "# Matching Classification Codes"
      ]
    },
    {
      "cell_type": "code",
      "metadata": {
        "id": "buAgLPVELUiM",
        "colab_type": "code",
        "colab": {}
      },
      "source": [
        "all_list=df.filter3.unique().tolist()"
      ],
      "execution_count": 0,
      "outputs": []
    },
    {
      "cell_type": "code",
      "metadata": {
        "id": "zpV4XSvQL8By",
        "colab_type": "code",
        "colab": {}
      },
      "source": [
        "my_list=['0012','0013','0025','0026','0027','0031','0101','0102','0104','0105','0109','0111','0112','0113','0114','0115']"
      ],
      "execution_count": 0,
      "outputs": []
    },
    {
      "cell_type": "code",
      "metadata": {
        "id": "iNscfxKVL8fH",
        "colab_type": "code",
        "colab": {
          "base_uri": "https://localhost:8080/",
          "height": 306
        },
        "outputId": "e93eac06-1a4e-425c-a069-9b8a2ab80c25"
      },
      "source": [
        "count=0\n",
        "for i in my_list:\n",
        "  if i in all_list:\n",
        "    print('{} is {}'.format(i, 'yes, it is in there.'))\n",
        "    count+=1\n",
        "  else:\n",
        "    print('{} is {}'.format(i, 'no, it is not in there'))\n",
        "print('Total {} of them is here'.format(count))"
      ],
      "execution_count": 84,
      "outputs": [
        {
          "output_type": "stream",
          "text": [
            "0012 is no, it is not in there\n",
            "0013 is yes, it is in there.\n",
            "0025 is no, it is not in there\n",
            "0026 is no, it is not in there\n",
            "0027 is no, it is not in there\n",
            "0031 is yes, it is in there.\n",
            "0101 is yes, it is in there.\n",
            "0102 is no, it is not in there\n",
            "0104 is yes, it is in there.\n",
            "0105 is yes, it is in there.\n",
            "0109 is yes, it is in there.\n",
            "0111 is yes, it is in there.\n",
            "0112 is yes, it is in there.\n",
            "0113 is yes, it is in there.\n",
            "0114 is yes, it is in there.\n",
            "0115 is no, it is not in there\n",
            "Total 10 of them is here\n"
          ],
          "name": "stdout"
        }
      ]
    },
    {
      "cell_type": "markdown",
      "metadata": {
        "id": "UN5DgMUpPxdT",
        "colab_type": "text"
      },
      "source": [
        "# The First Filter\n",
        "Drop everything if Classification Code is different than our wanted ones"
      ]
    },
    {
      "cell_type": "code",
      "metadata": {
        "id": "EylkcR8mP26n",
        "colab_type": "code",
        "colab": {}
      },
      "source": [
        "df1=df[df['filter3'].isin(my_list)]"
      ],
      "execution_count": 0,
      "outputs": []
    },
    {
      "cell_type": "code",
      "metadata": {
        "id": "FzEsNY7ARXcU",
        "colab_type": "code",
        "colab": {
          "base_uri": "https://localhost:8080/",
          "height": 68
        },
        "outputId": "d8474398-43df-4331-9b4c-51d574859522"
      },
      "source": [
        "print(' before filter {}'.format(df.shape[0]))\n",
        "print(' after filter3 {}'.format(df1.shape[0]))\n",
        "print(' Total {} row are dropped'.format(df.shape[0]-df1.shape[0]))"
      ],
      "execution_count": 105,
      "outputs": [
        {
          "output_type": "stream",
          "text": [
            " before filter 398122\n",
            " after filter3 226031\n",
            " Total 172091 row are dropped\n"
          ],
          "name": "stdout"
        }
      ]
    },
    {
      "cell_type": "markdown",
      "metadata": {
        "id": "JYJegSu_c0YG",
        "colab_type": "text"
      },
      "source": [
        "# The second Filter\n",
        "\n",
        "Drop everything if classfication code is 0102 and value of Residential Exemption.1 is greater than 1."
      ]
    },
    {
      "cell_type": "code",
      "metadata": {
        "id": "OjqTnSN5c3kx",
        "colab_type": "code",
        "colab": {
          "base_uri": "https://localhost:8080/",
          "height": 119
        },
        "outputId": "237ab350-5570-47b8-bcfb-08f74fa91969"
      },
      "source": [
        "df1['Residential Exemption.1 float']=df1['Residential Exemption.1'].map(lambda row: anystring_to_float(row))"
      ],
      "execution_count": 111,
      "outputs": [
        {
          "output_type": "stream",
          "text": [
            "/usr/local/lib/python3.6/dist-packages/ipykernel_launcher.py:1: SettingWithCopyWarning: \n",
            "A value is trying to be set on a copy of a slice from a DataFrame.\n",
            "Try using .loc[row_indexer,col_indexer] = value instead\n",
            "\n",
            "See the caveats in the documentation: http://pandas.pydata.org/pandas-docs/stable/user_guide/indexing.html#returning-a-view-versus-a-copy\n",
            "  \"\"\"Entry point for launching an IPython kernel.\n"
          ],
          "name": "stderr"
        }
      ]
    },
    {
      "cell_type": "code",
      "metadata": {
        "id": "7yLpCbWrel5l",
        "colab_type": "code",
        "colab": {}
      },
      "source": [
        "df2 = df1.drop(df1[(df1['filter3']=='0102') & (df1['Residential Exemption.1 float'] > 1)].index)"
      ],
      "execution_count": 0,
      "outputs": []
    },
    {
      "cell_type": "code",
      "metadata": {
        "id": "mUHsLn4TghKe",
        "colab_type": "code",
        "colab": {
          "base_uri": "https://localhost:8080/",
          "height": 34
        },
        "outputId": "f22f0a71-734a-4e9f-9337-553c29ebe296"
      },
      "source": [
        "df2.shape"
      ],
      "execution_count": 122,
      "outputs": [
        {
          "output_type": "execute_result",
          "data": {
            "text/plain": [
              "(226031, 42)"
            ]
          },
          "metadata": {
            "tags": []
          },
          "execution_count": 122
        }
      ]
    },
    {
      "cell_type": "code",
      "metadata": {
        "id": "YL9CKUzRe8r8",
        "colab_type": "code",
        "colab": {
          "base_uri": "https://localhost:8080/",
          "height": 34
        },
        "outputId": "c64010d8-e6d6-4538-d4b9-760c484f6ad3"
      },
      "source": [
        "df2.shape"
      ],
      "execution_count": 117,
      "outputs": [
        {
          "output_type": "execute_result",
          "data": {
            "text/plain": [
              "(137539, 42)"
            ]
          },
          "metadata": {
            "tags": []
          },
          "execution_count": 117
        }
      ]
    },
    {
      "cell_type": "code",
      "metadata": {
        "id": "Qch5HIYpg61U",
        "colab_type": "code",
        "colab": {}
      },
      "source": [
        "df2=df2[[df2.columns[i] for i in range(38)]]\n",
        "df2.to_excel('total_rows_226031.xlsx')"
      ],
      "execution_count": 0,
      "outputs": []
    },
    {
      "cell_type": "markdown",
      "metadata": {
        "id": "5J7hWmPuij2P",
        "colab_type": "text"
      },
      "source": [
        "# The last filter\n",
        "\n",
        "If “Units in Building” is greater than 100, delete the row."
      ]
    },
    {
      "cell_type": "code",
      "metadata": {
        "id": "mhqFIHUpiu7A",
        "colab_type": "code",
        "colab": {}
      },
      "source": [
        "df3=df2.drop(df2[df2['Units in Building']>100].index)"
      ],
      "execution_count": 0,
      "outputs": []
    },
    {
      "cell_type": "code",
      "metadata": {
        "id": "YLgTVhKwjVRV",
        "colab_type": "code",
        "colab": {
          "base_uri": "https://localhost:8080/",
          "height": 34
        },
        "outputId": "e06ac950-63bd-4806-d609-ea7c669d7ed1"
      },
      "source": [
        "df3.shape"
      ],
      "execution_count": 126,
      "outputs": [
        {
          "output_type": "execute_result",
          "data": {
            "text/plain": [
              "(211899, 38)"
            ]
          },
          "metadata": {
            "tags": []
          },
          "execution_count": 126
        }
      ]
    },
    {
      "cell_type": "code",
      "metadata": {
        "id": "Vz2_OD89jd09",
        "colab_type": "code",
        "colab": {}
      },
      "source": [
        "df3.to_excel('total_rows_211899.xlsx')"
      ],
      "execution_count": 0,
      "outputs": []
    },
    {
      "cell_type": "markdown",
      "metadata": {
        "id": "gaftVRbNaW2n",
        "colab_type": "text"
      },
      "source": [
        "# Before and After filter3 Classification value counts"
      ]
    },
    {
      "cell_type": "code",
      "metadata": {
        "id": "COs87sHEalxq",
        "colab_type": "code",
        "colab": {
          "base_uri": "https://localhost:8080/",
          "height": 204
        },
        "outputId": "b790fd44-4f1b-4481-d7df-d2a6c4a88efc"
      },
      "source": [
        "df1['Classification Code'].value_counts()"
      ],
      "execution_count": 131,
      "outputs": [
        {
          "output_type": "execute_result",
          "data": {
            "text/plain": [
              "0105 (Residential Property  / THREE-FAM DWELLING)      54931\n",
              "0104 (Residential Property  / TWO-FAM DWELLING)        53578\n",
              "0101 (Residential Property  / SINGLE FAM DWELLING)     35757\n",
              "0013 (Multiple use Property / RES /COMMERCIAL USE)     34731\n",
              "0112 (Apartment Property / APT 7-30 UNITS)             24992\n",
              "0111 (Apartment Property / APT 4-6 UNITS)              15757\n",
              "0031 (Multiple use Property / COMM MULTI-USE)           3611\n",
              "0114 (Apartment Property / APT 100+ UNITS)              1235\n",
              "0109 (Residential Property  / MULTIPLE BLDGS/1 LOT)      731\n",
              "0113 (Apartment Property / APT 31-99 UNITS)              708\n",
              "Name: Classification Code, dtype: int64"
            ]
          },
          "metadata": {
            "tags": []
          },
          "execution_count": 131
        }
      ]
    },
    {
      "cell_type": "code",
      "metadata": {
        "id": "B2N48681mmXc",
        "colab_type": "code",
        "colab": {
          "base_uri": "https://localhost:8080/",
          "height": 204
        },
        "outputId": "2cffe4ae-78df-46bc-caed-a0739ed9e6cb"
      },
      "source": [
        "df2['Classification Code'].value_counts()"
      ],
      "execution_count": 132,
      "outputs": [
        {
          "output_type": "execute_result",
          "data": {
            "text/plain": [
              "0105 (Residential Property  / THREE-FAM DWELLING)      54931\n",
              "0104 (Residential Property  / TWO-FAM DWELLING)        53578\n",
              "0101 (Residential Property  / SINGLE FAM DWELLING)     35757\n",
              "0013 (Multiple use Property / RES /COMMERCIAL USE)     34731\n",
              "0112 (Apartment Property / APT 7-30 UNITS)             24992\n",
              "0111 (Apartment Property / APT 4-6 UNITS)              15757\n",
              "0031 (Multiple use Property / COMM MULTI-USE)           3611\n",
              "0114 (Apartment Property / APT 100+ UNITS)              1235\n",
              "0109 (Residential Property  / MULTIPLE BLDGS/1 LOT)      731\n",
              "0113 (Apartment Property / APT 31-99 UNITS)              708\n",
              "Name: Classification Code, dtype: int64"
            ]
          },
          "metadata": {
            "tags": []
          },
          "execution_count": 132
        }
      ]
    },
    {
      "cell_type": "code",
      "metadata": {
        "id": "O-RXUrtUavSb",
        "colab_type": "code",
        "colab": {
          "base_uri": "https://localhost:8080/",
          "height": 204
        },
        "outputId": "8124a0f6-2196-4750-9f14-3d81960d7cd5"
      },
      "source": [
        "df3['Classification Code'].value_counts()"
      ],
      "execution_count": 130,
      "outputs": [
        {
          "output_type": "execute_result",
          "data": {
            "text/plain": [
              "0105 (Residential Property  / THREE-FAM DWELLING)      54931\n",
              "0104 (Residential Property  / TWO-FAM DWELLING)        53578\n",
              "0101 (Residential Property  / SINGLE FAM DWELLING)     35757\n",
              "0013 (Multiple use Property / RES /COMMERCIAL USE)     23461\n",
              "0112 (Apartment Property / APT 7-30 UNITS)             22874\n",
              "0111 (Apartment Property / APT 4-6 UNITS)              15532\n",
              "0031 (Multiple use Property / COMM MULTI-USE)           3447\n",
              "0114 (Apartment Property / APT 100+ UNITS)               880\n",
              "0109 (Residential Property  / MULTIPLE BLDGS/1 LOT)      731\n",
              "0113 (Apartment Property / APT 31-99 UNITS)              708\n",
              "Name: Classification Code, dtype: int64"
            ]
          },
          "metadata": {
            "tags": []
          },
          "execution_count": 130
        }
      ]
    },
    {
      "cell_type": "markdown",
      "metadata": {
        "id": "Bz6w8Gf70EKp",
        "colab_type": "text"
      },
      "source": [
        "# Check If there is any missing values"
      ]
    },
    {
      "cell_type": "code",
      "metadata": {
        "id": "r0DS6dCIOIzS",
        "colab_type": "code",
        "outputId": "f7708aae-73d8-4cd7-dd02-d720be7dd54e",
        "colab": {
          "base_uri": "https://localhost:8080/",
          "height": 731
        }
      },
      "source": [
        "df1.isnull().sum()"
      ],
      "execution_count": 90,
      "outputs": [
        {
          "output_type": "execute_result",
          "data": {
            "text/plain": [
              "Sam Address Id                                   0\n",
              "Issued Registration                              0\n",
              "Sam Address                                      0\n",
              "Home-share Eligible                              0\n",
              "Limited-share Eligible                           0\n",
              "Owner-adjacent Eligible                          0\n",
              "Owners Current License Types                     0\n",
              "Income Restricted                                0\n",
              "Problem Property                                 0\n",
              "Problem Property Owner                           0\n",
              "Open Violation Count                             0\n",
              "Violations in the last 6 months                  0\n",
              "Legally Restricted                               0\n",
              "Unit Owner-occupied                              0\n",
              "Building Owner-occupied                          0\n",
              "Units in Building                                0\n",
              "Building Single Owner                            0\n",
              "Parcel Id                                        0\n",
              "Address                                          0\n",
              "Property type                                    0\n",
              "Classification Code                              0\n",
              "Lot Size                                         0\n",
              "Gross Area                                       0\n",
              "Year Built                                       0\n",
              "Owner on Tuesday, January 1, 2019                0\n",
              "Owner's Mailing Address                          0\n",
              "Residential Exemption                            0\n",
              "Personal Exemption                               0\n",
              "FY2020 Building Value                            0\n",
              "FY2020 Land Value                                0\n",
              "FY2020 Total Assessed Value                      0\n",
              "FY2020 Tax Rates (per thousand) - Residential    0\n",
              "FY2020 Tax Rates (per thousand) - Commercial     0\n",
              "FY2020 Gross Tax                                 0\n",
              "Community Preservation                           0\n",
              "Residential Exemption.1                          0\n",
              "Personal Exemption.1                             0\n",
              "FY2020 Net Tax                                   0\n",
              "filter1                                          0\n",
              "filter2                                          0\n",
              "filter3                                          0\n",
              "dtype: int64"
            ]
          },
          "metadata": {
            "tags": []
          },
          "execution_count": 90
        }
      ]
    },
    {
      "cell_type": "code",
      "metadata": {
        "id": "YFQBiwl_51Wj",
        "colab_type": "code",
        "colab": {}
      },
      "source": [
        "df3.to_excel('fixed_one.xlsx')"
      ],
      "execution_count": 0,
      "outputs": []
    },
    {
      "cell_type": "markdown",
      "metadata": {
        "id": "_dQJ8WD3ba1J",
        "colab_type": "text"
      },
      "source": [
        "# David House"
      ]
    },
    {
      "cell_type": "code",
      "metadata": {
        "id": "EfEAGpYDWeTC",
        "colab_type": "code",
        "colab": {}
      },
      "source": [
        "david=df3[df3['Parcel Id']==0501637000.0]"
      ],
      "execution_count": 0,
      "outputs": []
    },
    {
      "cell_type": "code",
      "metadata": {
        "id": "6vWvQAYm8HsU",
        "colab_type": "code",
        "outputId": "d589ba11-803d-4656-940f-13a8c38b4d96",
        "colab": {
          "base_uri": "https://localhost:8080/",
          "height": 210
        }
      },
      "source": [
        "david_list=[2,15,19,20,24,25]\n",
        "david[[david.columns[i] for i in david_list]]"
      ],
      "execution_count": 129,
      "outputs": [
        {
          "output_type": "execute_result",
          "data": {
            "text/html": [
              "<div>\n",
              "<style scoped>\n",
              "    .dataframe tbody tr th:only-of-type {\n",
              "        vertical-align: middle;\n",
              "    }\n",
              "\n",
              "    .dataframe tbody tr th {\n",
              "        vertical-align: top;\n",
              "    }\n",
              "\n",
              "    .dataframe thead th {\n",
              "        text-align: right;\n",
              "    }\n",
              "</style>\n",
              "<table border=\"1\" class=\"dataframe\">\n",
              "  <thead>\n",
              "    <tr style=\"text-align: right;\">\n",
              "      <th></th>\n",
              "      <th>Sam Address</th>\n",
              "      <th>Units in Building</th>\n",
              "      <th>Property type</th>\n",
              "      <th>Classification Code</th>\n",
              "      <th>Owner on Tuesday, January 1, 2019</th>\n",
              "      <th>Owner's Mailing Address</th>\n",
              "    </tr>\n",
              "  </thead>\n",
              "  <tbody>\n",
              "    <tr>\n",
              "      <th>265055</th>\n",
              "      <td>4 Myrtle St # 1</td>\n",
              "      <td>19</td>\n",
              "      <td>Two Family</td>\n",
              "      <td>0104 (Residential Property  / TWO-FAM DWELLING)</td>\n",
              "      <td>BACKMAN DAVID</td>\n",
              "      <td>4  MYRTLE  ST  BOSTON     MA 02114</td>\n",
              "    </tr>\n",
              "    <tr>\n",
              "      <th>304589</th>\n",
              "      <td>4 Myrtle St</td>\n",
              "      <td>19</td>\n",
              "      <td>Two Family</td>\n",
              "      <td>0104 (Residential Property  / TWO-FAM DWELLING)</td>\n",
              "      <td>BACKMAN DAVID</td>\n",
              "      <td>4  MYRTLE  ST  BOSTON     MA 02114</td>\n",
              "    </tr>\n",
              "    <tr>\n",
              "      <th>389060</th>\n",
              "      <td>4 Myrtle St # 2</td>\n",
              "      <td>19</td>\n",
              "      <td>Two Family</td>\n",
              "      <td>0104 (Residential Property  / TWO-FAM DWELLING)</td>\n",
              "      <td>BACKMAN DAVID</td>\n",
              "      <td>4  MYRTLE  ST  BOSTON     MA 02114</td>\n",
              "    </tr>\n",
              "  </tbody>\n",
              "</table>\n",
              "</div>"
            ],
            "text/plain": [
              "            Sam Address  ...             Owner's Mailing Address\n",
              "265055  4 Myrtle St # 1  ...  4  MYRTLE  ST  BOSTON     MA 02114\n",
              "304589      4 Myrtle St  ...  4  MYRTLE  ST  BOSTON     MA 02114\n",
              "389060  4 Myrtle St # 2  ...  4  MYRTLE  ST  BOSTON     MA 02114\n",
              "\n",
              "[3 rows x 6 columns]"
            ]
          },
          "metadata": {
            "tags": []
          },
          "execution_count": 129
        }
      ]
    },
    {
      "cell_type": "markdown",
      "metadata": {
        "id": "1gkGxqbobeAb",
        "colab_type": "text"
      },
      "source": [
        "# Some Value Counts"
      ]
    },
    {
      "cell_type": "code",
      "metadata": {
        "id": "ssz5AJ_7TyKD",
        "colab_type": "code",
        "colab": {
          "base_uri": "https://localhost:8080/",
          "height": 68
        },
        "outputId": "a6e79822-6656-4063-b44d-f38e3938abf9"
      },
      "source": [
        "df['Building Owner-occupied'].value_counts()"
      ],
      "execution_count": 96,
      "outputs": [
        {
          "output_type": "execute_result",
          "data": {
            "text/plain": [
              "N    397990\n",
              "Y       132\n",
              "Name: Building Owner-occupied, dtype: int64"
            ]
          },
          "metadata": {
            "tags": []
          },
          "execution_count": 96
        }
      ]
    },
    {
      "cell_type": "code",
      "metadata": {
        "id": "JrrbedROWVBL",
        "colab_type": "code",
        "colab": {
          "base_uri": "https://localhost:8080/",
          "height": 68
        },
        "outputId": "05f6be82-cd13-4b20-b37e-0c763f4bc0db"
      },
      "source": [
        "df1['Unit Owner-occupied'].value_counts()"
      ],
      "execution_count": 99,
      "outputs": [
        {
          "output_type": "execute_result",
          "data": {
            "text/plain": [
              "N    207104\n",
              "Y     18927\n",
              "Name: Unit Owner-occupied, dtype: int64"
            ]
          },
          "metadata": {
            "tags": []
          },
          "execution_count": 99
        }
      ]
    },
    {
      "cell_type": "code",
      "metadata": {
        "id": "q4gI5Bo1XeTF",
        "colab_type": "code",
        "colab": {
          "base_uri": "https://localhost:8080/",
          "height": 68
        },
        "outputId": "c4c9d6a7-d825-4018-f020-9f80e48b795f"
      },
      "source": [
        "df1['Residential Exemption'].value_counts()"
      ],
      "execution_count": 100,
      "outputs": [
        {
          "output_type": "execute_result",
          "data": {
            "text/plain": [
              "No     137539\n",
              "Yes     88492\n",
              "Name: Residential Exemption, dtype: int64"
            ]
          },
          "metadata": {
            "tags": []
          },
          "execution_count": 100
        }
      ]
    },
    {
      "cell_type": "code",
      "metadata": {
        "id": "EIE5uP6KXu7R",
        "colab_type": "code",
        "colab": {
          "base_uri": "https://localhost:8080/",
          "height": 204
        },
        "outputId": "9b2fd085-4631-459e-c785-f02ad32536a0"
      },
      "source": [
        "df1['Classification Code'].value_counts()"
      ],
      "execution_count": 101,
      "outputs": [
        {
          "output_type": "execute_result",
          "data": {
            "text/plain": [
              "0105 (Residential Property  / THREE-FAM DWELLING)      54931\n",
              "0104 (Residential Property  / TWO-FAM DWELLING)        53578\n",
              "0101 (Residential Property  / SINGLE FAM DWELLING)     35757\n",
              "0013 (Multiple use Property / RES /COMMERCIAL USE)     34731\n",
              "0112 (Apartment Property / APT 7-30 UNITS)             24992\n",
              "0111 (Apartment Property / APT 4-6 UNITS)              15757\n",
              "0031 (Multiple use Property / COMM MULTI-USE)           3611\n",
              "0114 (Apartment Property / APT 100+ UNITS)              1235\n",
              "0109 (Residential Property  / MULTIPLE BLDGS/1 LOT)      731\n",
              "0113 (Apartment Property / APT 31-99 UNITS)              708\n",
              "Name: Classification Code, dtype: int64"
            ]
          },
          "metadata": {
            "tags": []
          },
          "execution_count": 101
        }
      ]
    },
    {
      "cell_type": "code",
      "metadata": {
        "id": "AUXinD0GY21W",
        "colab_type": "code",
        "colab": {
          "base_uri": "https://localhost:8080/",
          "height": 136
        },
        "outputId": "31e303f5-176a-412b-8add-d2f19304c689"
      },
      "source": [
        "df1['Property type'].value_counts()"
      ],
      "execution_count": 102,
      "outputs": [
        {
          "output_type": "execute_result",
          "data": {
            "text/plain": [
              "Three Family              55662\n",
              "Two Family                53578\n",
              "Residential/Commercial    38342\n",
              "One Family                35757\n",
              "Apartment Building        26935\n",
              "Four to Six Family        15757\n",
              "Name: Property type, dtype: int64"
            ]
          },
          "metadata": {
            "tags": []
          },
          "execution_count": 102
        }
      ]
    },
    {
      "cell_type": "code",
      "metadata": {
        "id": "Jhf4Buq7ZSHT",
        "colab_type": "code",
        "colab": {
          "base_uri": "https://localhost:8080/",
          "height": 68
        },
        "outputId": "8298e103-66d9-415b-d014-4127ecf797ac"
      },
      "source": [
        "df1['Residential Exemption'].value_counts()"
      ],
      "execution_count": 104,
      "outputs": [
        {
          "output_type": "execute_result",
          "data": {
            "text/plain": [
              "No     137539\n",
              "Yes     88492\n",
              "Name: Residential Exemption, dtype: int64"
            ]
          },
          "metadata": {
            "tags": []
          },
          "execution_count": 104
        }
      ]
    },
    {
      "cell_type": "code",
      "metadata": {
        "id": "8cmmcgwGizC2",
        "colab_type": "code",
        "colab": {
          "base_uri": "https://localhost:8080/",
          "height": 221
        },
        "outputId": "6f4b35e0-fe21-4f88-cafc-7889b958bacc"
      },
      "source": [
        "df2['Units in Building'].value_counts()"
      ],
      "execution_count": 124,
      "outputs": [
        {
          "output_type": "execute_result",
          "data": {
            "text/plain": [
              "3     55488\n",
              "2     39714\n",
              "1     32955\n",
              "4     17883\n",
              "5      8463\n",
              "      ...  \n",
              "63       64\n",
              "62       63\n",
              "59       60\n",
              "57       58\n",
              "49       50\n",
              "Name: Units in Building, Length: 149, dtype: int64"
            ]
          },
          "metadata": {
            "tags": []
          },
          "execution_count": 124
        }
      ]
    },
    {
      "cell_type": "code",
      "metadata": {
        "id": "ENZGfRFtWfa6",
        "colab_type": "code",
        "colab": {
          "base_uri": "https://localhost:8080/",
          "height": 485
        },
        "outputId": "5ddd333c-db17-46f1-edcf-37f6fe883073"
      },
      "source": [
        "david"
      ],
      "execution_count": 98,
      "outputs": [
        {
          "output_type": "execute_result",
          "data": {
            "text/html": [
              "<div>\n",
              "<style scoped>\n",
              "    .dataframe tbody tr th:only-of-type {\n",
              "        vertical-align: middle;\n",
              "    }\n",
              "\n",
              "    .dataframe tbody tr th {\n",
              "        vertical-align: top;\n",
              "    }\n",
              "\n",
              "    .dataframe thead th {\n",
              "        text-align: right;\n",
              "    }\n",
              "</style>\n",
              "<table border=\"1\" class=\"dataframe\">\n",
              "  <thead>\n",
              "    <tr style=\"text-align: right;\">\n",
              "      <th></th>\n",
              "      <th>Sam Address Id</th>\n",
              "      <th>Issued Registration</th>\n",
              "      <th>Sam Address</th>\n",
              "      <th>Home-share Eligible</th>\n",
              "      <th>Limited-share Eligible</th>\n",
              "      <th>Owner-adjacent Eligible</th>\n",
              "      <th>Owners Current License Types</th>\n",
              "      <th>Income Restricted</th>\n",
              "      <th>Problem Property</th>\n",
              "      <th>Problem Property Owner</th>\n",
              "      <th>Open Violation Count</th>\n",
              "      <th>Violations in the last 6 months</th>\n",
              "      <th>Legally Restricted</th>\n",
              "      <th>Unit Owner-occupied</th>\n",
              "      <th>Building Owner-occupied</th>\n",
              "      <th>Units in Building</th>\n",
              "      <th>Building Single Owner</th>\n",
              "      <th>Parcel Id</th>\n",
              "      <th>Address</th>\n",
              "      <th>Property type</th>\n",
              "      <th>Classification Code</th>\n",
              "      <th>Lot Size</th>\n",
              "      <th>Gross Area</th>\n",
              "      <th>Year Built</th>\n",
              "      <th>Owner on Tuesday, January 1, 2019</th>\n",
              "      <th>Owner's Mailing Address</th>\n",
              "      <th>Residential Exemption</th>\n",
              "      <th>Personal Exemption</th>\n",
              "      <th>FY2020 Building Value</th>\n",
              "      <th>FY2020 Land Value</th>\n",
              "      <th>FY2020 Total Assessed Value</th>\n",
              "      <th>FY2020 Tax Rates (per thousand) - Residential</th>\n",
              "      <th>FY2020 Tax Rates (per thousand) - Commercial</th>\n",
              "      <th>FY2020 Gross Tax</th>\n",
              "      <th>Community Preservation</th>\n",
              "      <th>Residential Exemption.1</th>\n",
              "      <th>Personal Exemption.1</th>\n",
              "      <th>FY2020 Net Tax</th>\n",
              "      <th>filter1</th>\n",
              "      <th>filter2</th>\n",
              "      <th>filter3</th>\n",
              "    </tr>\n",
              "  </thead>\n",
              "  <tbody>\n",
              "    <tr>\n",
              "      <th>265055</th>\n",
              "      <td>280534</td>\n",
              "      <td>N</td>\n",
              "      <td>4 Myrtle St # 1</td>\n",
              "      <td>N</td>\n",
              "      <td>N</td>\n",
              "      <td>N</td>\n",
              "      <td>None</td>\n",
              "      <td>N</td>\n",
              "      <td>N</td>\n",
              "      <td>N</td>\n",
              "      <td>0</td>\n",
              "      <td>0</td>\n",
              "      <td>N</td>\n",
              "      <td>N</td>\n",
              "      <td>N</td>\n",
              "      <td>19</td>\n",
              "      <td>N</td>\n",
              "      <td>501637000.0</td>\n",
              "      <td>4 MYRTLE ST BOSTON MA 02114</td>\n",
              "      <td>Two Family</td>\n",
              "      <td>0104 (Residential Property  / TWO-FAM DWELLING)</td>\n",
              "      <td>636 sq ft</td>\n",
              "      <td>1,977 sq ft</td>\n",
              "      <td>1855</td>\n",
              "      <td>BACKMAN DAVID</td>\n",
              "      <td>4  MYRTLE  ST  BOSTON     MA 02114</td>\n",
              "      <td>Yes</td>\n",
              "      <td>No</td>\n",
              "      <td>$1,266,400.00</td>\n",
              "      <td>$679,000.00</td>\n",
              "      <td>$1,945,400.00</td>\n",
              "      <td>$10.56</td>\n",
              "      <td>$24.92</td>\n",
              "      <td>$20,543.43</td>\n",
              "      <td>$166.08</td>\n",
              "      <td>$2,879.79</td>\n",
              "      <td>$0.00</td>\n",
              "      <td>$17,829.72</td>\n",
              "      <td>0104</td>\n",
              "      <td>2,87979</td>\n",
              "      <td>0104</td>\n",
              "    </tr>\n",
              "    <tr>\n",
              "      <th>304589</th>\n",
              "      <td>99738</td>\n",
              "      <td>N</td>\n",
              "      <td>4 Myrtle St</td>\n",
              "      <td>N</td>\n",
              "      <td>N</td>\n",
              "      <td>N</td>\n",
              "      <td>None</td>\n",
              "      <td>N</td>\n",
              "      <td>N</td>\n",
              "      <td>N</td>\n",
              "      <td>0</td>\n",
              "      <td>0</td>\n",
              "      <td>N</td>\n",
              "      <td>N</td>\n",
              "      <td>N</td>\n",
              "      <td>19</td>\n",
              "      <td>N</td>\n",
              "      <td>501637000.0</td>\n",
              "      <td>4 MYRTLE ST BOSTON MA 02114</td>\n",
              "      <td>Two Family</td>\n",
              "      <td>0104 (Residential Property  / TWO-FAM DWELLING)</td>\n",
              "      <td>636 sq ft</td>\n",
              "      <td>1,977 sq ft</td>\n",
              "      <td>1855</td>\n",
              "      <td>BACKMAN DAVID</td>\n",
              "      <td>4  MYRTLE  ST  BOSTON     MA 02114</td>\n",
              "      <td>Yes</td>\n",
              "      <td>No</td>\n",
              "      <td>$1,266,400.00</td>\n",
              "      <td>$679,000.00</td>\n",
              "      <td>$1,945,400.00</td>\n",
              "      <td>$10.56</td>\n",
              "      <td>$24.92</td>\n",
              "      <td>$20,543.43</td>\n",
              "      <td>$166.08</td>\n",
              "      <td>$2,879.79</td>\n",
              "      <td>$0.00</td>\n",
              "      <td>$17,829.72</td>\n",
              "      <td>0104</td>\n",
              "      <td>2,87979</td>\n",
              "      <td>0104</td>\n",
              "    </tr>\n",
              "    <tr>\n",
              "      <th>389060</th>\n",
              "      <td>280535</td>\n",
              "      <td>N</td>\n",
              "      <td>4 Myrtle St # 2</td>\n",
              "      <td>N</td>\n",
              "      <td>N</td>\n",
              "      <td>N</td>\n",
              "      <td>None</td>\n",
              "      <td>N</td>\n",
              "      <td>N</td>\n",
              "      <td>N</td>\n",
              "      <td>0</td>\n",
              "      <td>0</td>\n",
              "      <td>N</td>\n",
              "      <td>N</td>\n",
              "      <td>N</td>\n",
              "      <td>19</td>\n",
              "      <td>N</td>\n",
              "      <td>501637000.0</td>\n",
              "      <td>4 MYRTLE ST BOSTON MA 02114</td>\n",
              "      <td>Two Family</td>\n",
              "      <td>0104 (Residential Property  / TWO-FAM DWELLING)</td>\n",
              "      <td>636 sq ft</td>\n",
              "      <td>1,977 sq ft</td>\n",
              "      <td>1855</td>\n",
              "      <td>BACKMAN DAVID</td>\n",
              "      <td>4  MYRTLE  ST  BOSTON     MA 02114</td>\n",
              "      <td>Yes</td>\n",
              "      <td>No</td>\n",
              "      <td>$1,266,400.00</td>\n",
              "      <td>$679,000.00</td>\n",
              "      <td>$1,945,400.00</td>\n",
              "      <td>$10.56</td>\n",
              "      <td>$24.92</td>\n",
              "      <td>$20,543.43</td>\n",
              "      <td>$166.08</td>\n",
              "      <td>$2,879.79</td>\n",
              "      <td>$0.00</td>\n",
              "      <td>$17,829.72</td>\n",
              "      <td>0104</td>\n",
              "      <td>2,87979</td>\n",
              "      <td>0104</td>\n",
              "    </tr>\n",
              "  </tbody>\n",
              "</table>\n",
              "</div>"
            ],
            "text/plain": [
              "        Sam Address Id Issued Registration  ...  filter2 filter3\n",
              "265055          280534                   N  ...  2,87979    0104\n",
              "304589           99738                   N  ...  2,87979    0104\n",
              "389060          280535                   N  ...  2,87979    0104\n",
              "\n",
              "[3 rows x 41 columns]"
            ]
          },
          "metadata": {
            "tags": []
          },
          "execution_count": 98
        }
      ]
    }
  ]
}